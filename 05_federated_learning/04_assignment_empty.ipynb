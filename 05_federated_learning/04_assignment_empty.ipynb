{
 "cells": [
  {
   "cell_type": "markdown",
   "id": "bf816ca9",
   "metadata": {},
   "source": [
    "# Assignment 04\n",
    "\n",
    "### Deadline: March 20th 2025, 10:00 AM\n",
    "\n",
    "### Deliverables:\n",
    "Please submit, via Canvas, a **zip file** including the following:\n",
    "- a .ipynb file (you can use this one) with all of your code included -- `04_assignment_surname1_surname2.ipynb`\n",
    "- a compiled .html file of your .ipynb which includes all of the output -- `04_assignment_surname1_surname2.html`\n",
    "- a pdf file with your written answers to the questions -- `04_assignment_surname1_surname2.pdf`\n",
    "\n",
    "Make sure to follow the naming convention indicated above. The zip name can be named `04_assignment_surname1_surname2`.\n",
    "\n",
    "Make sure to annotate your code. We may substract points if code is not annotated and unclear.\n",
    "\n",
    "To be able to run this notebook, run the following commands in your virtual environment: \n",
    "```\n",
    "pip install pandas numpy scikit-learn matplotlib torch torchvision flwr-datasets\n",
    "\n",
    "pip install -U flwr[\"simulation\"]\n",
    "```\n",
    "\n",
    "If you get an error at the last step, try `pip install 'flwr[simulation]'` instead."
   ]
  },
  {
   "cell_type": "code",
   "execution_count": 1,
   "id": "de32b407",
   "metadata": {},
   "outputs": [],
   "source": [
    "import warnings\n",
    "warnings.filterwarnings(\"ignore\")\n",
    "import flwr as fl"
   ]
  },
  {
   "cell_type": "markdown",
   "id": "c9044eda",
   "metadata": {},
   "source": [
    "## 1. Federated Learning – Simulation\n",
    "\n",
    "(15 points) \n",
    "\n",
    "**1.1** Follow this week's tutorial and perform federated learning on the 'cifar10' dataset. For this simulation, we want to implement the following: \n",
    "\n",
    "- Transform the data to tensors and normalize them. How did you choose the values for normalizing?\n",
    "- Define an appropriate model architecture for this dataset. The one we used for the mnist dataset in the tutorial will not work for this dataset.\n",
    "- Run the simulation with 100 clients.\n",
    "- Perform 40 rounds in this simulation.\n",
    "- Every client's local training should run through 2 epochs.\n",
    "- Each round, we want only 20% of the clients to update their model by training it locally.\n",
    "- Each round, we want to use 10% of the clients for federated evaluation.\n",
    "\n",
    "**1.2** Plot the accuracy scores per round for both centralized and federated evaluation. \n",
    "\n",
    "**1.3** Explain and describe the plot from Q2.2, and evaluate the simulation results."
   ]
  },
  {
   "cell_type": "markdown",
   "id": "3f39e45c",
   "metadata": {},
   "source": [
    "# 2. Trustworthy AI Case study\n",
    "\n",
    "(40 points)\n",
    "\n",
    "You have been assigned a dataset for a binary classification problem. You can [see the allocation](https://github.com/tabearoeber/trustworthy_ai/blob/main/05_FederatedLearning/assignment%20material/dataset-allocation.pdf) in this file on the Github repository. It is your task to write a case study report where you fit a model to the data and apply multiple methods for explainable/interpretable AI. The final deliverable for this part of the assignment will be a report of 8-10 pages excluding references and appendix. See [this document for more information about the grading](https://github.com/tabearoeber/trustworthy_ai/blob/main/05_FederatedLearning/assignment%20material/report-grading.pdf) of the report.\n",
    "\n",
    "Requirements: \n",
    "- Discuss the data including a description of the context and descriptive statistics. \n",
    "- Discuss any data processing steps you take.\n",
    "- Fit a black box model to the data. Discuss your considerations during the modeling process. Also evaluate the performance of the model.\n",
    "- Choose **3 methods** from week 2 (glass box models), week 3 (unboxing methods), and week 4 (other XAI methods) to apply to your dataset / model. \n",
    "    - Choose **at least 1 glass box** method and **at least 1 post-hoc explanation** method\n",
    "    - The third method that you choose *can* be a method that we did not discuss in class, but doesn't have to be. Your third method may also be one of those discussed in class.\n",
    "    - For any post-hoc explanation methods that you choose, apply them to the black-box model that you trained.\n",
    "- Write an extensive evaluation and discussion comparing the chosen methods and their results.\n",
    "- Elaborate on the socio-ethical context of trustworthy AI and your specific dataset. \n",
    "- Provide your code.\n",
    "\n",
    "Please use [this latex template](https://github.com/tabearoeber/trustworthy_ai/tree/main/05_FederatedLearning/assignment%20material/TRAI_template) that I put on the Github reposiroty for your report.\n",
    "\n",
    "Your final report should be have a maximum of 10 pages excluding references and appendix. Please shy away from too extensive appendices."
   ]
  }
 ],
 "metadata": {
  "kernelspec": {
   "display_name": "week5_test",
   "language": "python",
   "name": "week5_test"
  },
  "language_info": {
   "codemirror_mode": {
    "name": "ipython",
    "version": 3
   },
   "file_extension": ".py",
   "mimetype": "text/x-python",
   "name": "python",
   "nbconvert_exporter": "python",
   "pygments_lexer": "ipython3",
   "version": "3.11.9"
  }
 },
 "nbformat": 4,
 "nbformat_minor": 5
}
