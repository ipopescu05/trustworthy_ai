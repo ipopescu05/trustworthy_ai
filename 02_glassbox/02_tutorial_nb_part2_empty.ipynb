{
 "cells": [
  {
   "cell_type": "markdown",
   "id": "b749cc70",
   "metadata": {},
   "source": [
    "# Week 02 – Glassbox Models (part 2)\n",
    "\n",
    "In this notebook we'll be applying different glassbox models to the same dataset and compare their performance in terms of accuracy and f1-score and their interpretability.\n",
    "\n",
    "#### Step 1: Navigate to this week's directory \n",
    "```\n",
    "cd <path_to_week_2_material>\n",
    "```\n",
    "\n",
    "#### Step 2: Create and Activate a virtual environment (Python 3.9)\n",
    "**MacOS**\n",
    "```\n",
    "python3.11 -m venv part2_venv\n",
    "source part2_venv/bin/activate\n",
    "```\n",
    "\n",
    "**Windows (cmd)**\n",
    "```\n",
    "python3.11 -m venv part2_venv\n",
    "part2_venv\\Scripts\\activate\n",
    "```\n",
    "\n",
    "#### Step 3: Install required packages\n",
    "First, install `ipykernel` to integrate your virtual environment with Jupyter.\n",
    "```\n",
    "pip install ipykernel\n",
    "python -m ipykernel install --user --name=part2_venv\n",
    "```\n",
    "\n",
    "Next, install all necessary packages.\n",
    "```\n",
    "pip install ruleopt\n",
    "```\n",
    "\n",
    "**import packages**"
   ]
  },
  {
   "cell_type": "code",
   "execution_count": 1,
   "id": "3e4b241e",
   "metadata": {},
   "outputs": [],
   "source": [
    "import warnings\n",
    "warnings.filterwarnings(\"ignore\")\n",
    "import numpy as np\n",
    "import pandas as pd\n",
    "from sklearn.metrics import accuracy_score, f1_score, confusion_matrix, roc_auc_score\n",
    "import os\n",
    "import sys\n",
    "# import matplotlib.pyplot as plt"
   ]
  },
  {
   "cell_type": "markdown",
   "id": "dc0e93fa",
   "metadata": {},
   "source": [
    "# Load the dataset\n",
    "\n",
    "We are using the [Titanic dataset](https://www.kaggle.com/c/titanic/overview), which holds data about passangers of the Titanic and whether they survived or not. Passengers are described by 7 features. The response variable is binary (0 – died; 1 - survived).\n",
    "\n",
    "Make sure to save the dataset in the parent directory or adjust the file path below.\n",
    "\n",
    "We are directly loading the pre-processed data sets. For some algorithms, we require the data to be in binary form. Hence, we have two versions of X: `X_train` and `X_test`, with continous features and one-hot encoded categorical features, and `X_train_bin` and `X_test_bin`, where all features have been one-hot encoded. For this, continuous features were first transformed into categories. Check the code in `./01_intro/titanic_data_prep.ipynb` for more details on pre-processing."
   ]
  },
  {
   "cell_type": "code",
   "execution_count": null,
   "id": "248acf65",
   "metadata": {},
   "outputs": [],
   "source": [
    "# X_train \n",
    "X_train = pd.read_csv('../datasets/titanic/encoded_titanic_X_train.csv')\n",
    "X_train_bin = pd.read_csv('../datasets/titanic/bin_titanic_X_train.csv')\n",
    "\n",
    "# X_test\n",
    "X_test = pd.read_csv('../datasets/titanic/encoded_titanic_X_test.csv')\n",
    "X_test_bin = pd.read_csv('../datasets/titanic/bin_titanic_X_test.csv')\n",
    "\n",
    "# y_train and y_test\n",
    "y_train = pd.read_csv('../datasets/titanic/titanic_y_train.csv')\n",
    "y_test = pd.read_csv('../datasets/titanic/titanic_y_test.csv')\n",
    "\n",
    "# take a look at the data\n",
    "X_train.head()"
   ]
  },
  {
   "cell_type": "markdown",
   "id": "50ad58d6",
   "metadata": {},
   "source": [
    "## About the dataset\n",
    "\n",
    "- `Age` – age of a person in years (int)\n",
    "- `SibSp` – the number of siblings or spouse of a person **onboard** (int)\n",
    "- `Parch` – the number of parents or children of a person **onbard** (int)\n",
    "- `Fare` – ticket price (float)\n",
    "- `Sex` – sex of a person (categorical/binary)\n",
    "- `Embarked` – location where the traveler mounted from. There are three possible values — Southampton, Cherbourg, and Queenstown (categorical)\n",
    "- `Pclass` – passenger division into class 1, 2, and 3 (categorical)\n",
    "- `Survived` – whether person survived the sinking of the ship (binary). Less than 40% survived. This is the **outcome** to predict. \n",
    "\n",
    "\n",
    "From the original dataset and from preprocessing the data, we know the following about the **categorical features**:\n",
    "\n",
    "- `Sex` has two values `['female','male']`, which were encoded `[0,1]`, respectively. Then, after applying one-hot encoding, we have `Sex_1` which indicates `male` if 1, `female` otherwise.\n",
    "- `Embarked` has three values `['C', 'Q', 'S']`, which were encoded `[0,1,2]`, respectively. Hence,\n",
    "    - `Embarked_1 = 1` indicates `Q` \n",
    "    - `Embarked_2 = 1` indicates `S`\n",
    "    - `Embarked_1 = 0` and `Embarked_2 = 0` indicated `C`\n",
    "- `Pclass` has three values `[1,2,3]`, which were encoded `[0,1,2]`, respectively. Hence, after encoding, we have:\n",
    "    - `Pclass_1 = 1` indicates `2`\n",
    "    - `Pclass_2 = 1` indicates `3`\n",
    "    - `Pclass_1 = 0` and `Pclass_2 = 0` indicates `1`"
   ]
  },
  {
   "cell_type": "code",
   "execution_count": 3,
   "id": "e798643b",
   "metadata": {},
   "outputs": [],
   "source": [
    "d = {\n",
    "    'target': 'Survived',\n",
    "    'numerical':['Age', 'SibSp', 'Parch', 'Fare'],\n",
    "    'categorical':['Sex', 'Embarked', 'Pclass']\n",
    "}\n",
    "\n",
    "# save feature names\n",
    "feature_names = X_train.columns\n",
    "target_names = list(y_train[d['target']].unique())\n",
    "\n",
    "# create a dataframe to save y values in \n",
    "y_results = pd.DataFrame()\n",
    "y_results['y_test'] = y_test"
   ]
  },
  {
   "cell_type": "markdown",
   "id": "b60564ca",
   "metadata": {},
   "source": [
    "---\n",
    "---"
   ]
  },
  {
   "cell_type": "markdown",
   "id": "303e73c0",
   "metadata": {},
   "source": [
    "# 5. Decision Rules\n",
    "\n",
    "## 5.2 Rule Generation (RUG)\n",
    "\n",
    "We propose this algorithm in our paper which you can access here: https://arxiv.org/abs/2104.10751 "
   ]
  },
  {
   "cell_type": "code",
   "execution_count": 4,
   "id": "d6c0d2e3",
   "metadata": {},
   "outputs": [],
   "source": [
    "# sys.path.insert(1, os.path.dirname(os.getcwd())+'/RuleDiscovery')\n",
    "from ruleopt import RUGClassifier\n",
    "from ruleopt.rule_cost import Length, Gini\n",
    "from ruleopt.explainer import Explainer\n",
    "# import ruxg"
   ]
  },
  {
   "cell_type": "code",
   "execution_count": 5,
   "id": "5163e861",
   "metadata": {},
   "outputs": [],
   "source": [
    "# solver = ORToolsSolver()\n",
    "rule_cost = Length()\n",
    "\n",
    "# Initialize the RUGClassifier with specific parameters\n",
    "rug = RUGClassifier(\n",
    "    random_state=100,\n",
    "    max_rmp_calls=8,\n",
    "    rule_cost=rule_cost,\n",
    "    max_depth=3,\n",
    "    threshold=0.05)"
   ]
  },
  {
   "cell_type": "code",
   "execution_count": 6,
   "id": "55529776",
   "metadata": {},
   "outputs": [],
   "source": [
    "# rug = RUGClassifier(max_depth=3, rule_length_cost=False,\n",
    "#                     solver='gurobi', random_state=0, max_RMP_calls = 8, threshold = 0.05)\n",
    "rug.fit(X_train, y_train[d['target']])\n",
    "y_results['rug_pred'] = rug.predict(np.array(X_test))"
   ]
  },
  {
   "cell_type": "markdown",
   "id": "965a01eb",
   "metadata": {},
   "source": [
    "## inspect performance"
   ]
  },
  {
   "cell_type": "code",
   "execution_count": null,
   "id": "eb21093b",
   "metadata": {},
   "outputs": [],
   "source": [
    "# Confusion matrix\n",
    "cm = pd.crosstab(y_results['y_test'], y_results['rug_pred'])\n",
    "print (\"Confusion matrix : \\n\", cm)\n",
    "\n",
    "print('\\nAccuracy  = %.4f' % accuracy_score(y_results['y_test'], y_results['rug_pred']))\n",
    "print('F1 score  = %.4f' % f1_score(y_results['y_test'], y_results['rug_pred']))"
   ]
  },
  {
   "cell_type": "markdown",
   "id": "1c9272a0",
   "metadata": {},
   "source": [
    "### Questions\n",
    "\n",
    "**Q 5.2.1 – Evaluate the model performance.**\n",
    "\n",
    "...\n",
    "\n",
    "**Q 5.2.2 – Explain the meaning of `rule_cost = Length()`.**\n",
    "\n",
    "..."
   ]
  },
  {
   "cell_type": "markdown",
   "id": "311dc60d",
   "metadata": {},
   "source": [
    "## model interpretation\n",
    "\n",
    "---\n",
    "### GLOBAL"
   ]
  },
  {
   "cell_type": "code",
   "execution_count": null,
   "id": "dca05827",
   "metadata": {},
   "outputs": [],
   "source": [
    "exp = Explainer(rug)\n",
    "summary = exp.summarize_rule_metrics()"
   ]
  },
  {
   "cell_type": "code",
   "execution_count": null,
   "id": "1dae5efe",
   "metadata": {},
   "outputs": [],
   "source": [
    "rules = exp.retrieve_rule_details(list(feature_names))"
   ]
  },
  {
   "cell_type": "markdown",
   "id": "7b956c08",
   "metadata": {},
   "source": [
    "### Questions\n",
    "\n",
    "**Q 5.2.2 – Evaluate the global interpretability of the model.**\n",
    "\n",
    "..."
   ]
  },
  {
   "cell_type": "markdown",
   "id": "fb575946",
   "metadata": {},
   "source": [
    "---\n",
    "### LOCAL"
   ]
  },
  {
   "cell_type": "code",
   "execution_count": null,
   "id": "7ad67f99",
   "metadata": {},
   "outputs": [],
   "source": [
    "rule_coverage_metrics = exp.evaluate_rule_coverage_metrics(X_test, info=True)"
   ]
  },
  {
   "cell_type": "code",
   "execution_count": null,
   "id": "ad6324ce",
   "metadata": {},
   "outputs": [],
   "source": [
    "i = 9\n",
    "print(f'True and predicted values for sample at index {i}:')\n",
    "print(y_results.loc[i,:], '\\n')\n",
    "print(f'Sample {i} features:')\n",
    "X_test.loc[[i]]"
   ]
  },
  {
   "cell_type": "code",
   "execution_count": null,
   "id": "a2974ab0",
   "metadata": {},
   "outputs": [],
   "source": [
    "exp.find_applicable_rules_for_samples(X_test.iloc[[i]], feature_names=list(feature_names), info=True)"
   ]
  },
  {
   "cell_type": "markdown",
   "id": "d8e761d1",
   "metadata": {},
   "source": [
    "### Questions\n",
    "\n",
    "**Q 5.2.3 – Take a look at the local explanation for the sample with index 7 of the test set. Explain how the prediction is made.**\n",
    "\n",
    "...\n",
    "\n",
    "**Q 5.2.4 – Explain the main difference between RUG and the algorithm here that produces a decision list.**\n",
    "\n",
    "..."
   ]
  }
 ],
 "metadata": {
  "kernelspec": {
   "display_name": "part2_venv",
   "language": "python",
   "name": "part2_venv"
  },
  "language_info": {
   "codemirror_mode": {
    "name": "ipython",
    "version": 3
   },
   "file_extension": ".py",
   "mimetype": "text/x-python",
   "name": "python",
   "nbconvert_exporter": "python",
   "pygments_lexer": "ipython3",
   "version": "3.11.9"
  }
 },
 "nbformat": 4,
 "nbformat_minor": 5
}
