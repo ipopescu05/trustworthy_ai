{
 "cells": [
  {
   "cell_type": "markdown",
   "id": "d26ed217",
   "metadata": {},
   "source": [
    "# Assignment 01\n",
    "\n",
    "### Deadline: February 20th 2025, 10:00 AM\n",
    "\n",
    "### Deliverables:\n",
    "Please submit, via Canvas, a **zip file** including the following:\n",
    "- a .ipynb file (you can use this one) with all of your code included -- `01_assignment_surname1_surname2.ipynb`\n",
    "- a compiled .html file of your .ipynb which includes all of the output -- `01_assignment_surname1_surname2.html`\n",
    "- a pdf file with your written answers to the questions -- `01_assignment_surname1_surname2.pdf`\n",
    "\n",
    "Make sure to follow the naming convention indicated above. The zip name can be named `01_assignment_surname1_surname2`.\n",
    "\n",
    "Make sure to annotate your code. We may substract points if code is not annotated and unclear."
   ]
  },
  {
   "cell_type": "markdown",
   "id": "b5261683",
   "metadata": {},
   "source": [
    "---\n",
    "\n",
    "## Data\n",
    "\n",
    "We are using the [Statlog (German Credit Data)](http://archive.ics.uci.edu) dataset. The German Credit dataset classifies people described by a set of 20 features as good or bad credit risk."
   ]
  },
  {
   "cell_type": "code",
   "execution_count": 2,
   "id": "ae6d9477",
   "metadata": {},
   "outputs": [],
   "source": [
    "import warnings\n",
    "warnings.filterwarnings(\"ignore\")\n",
    "import pandas as pd"
   ]
  },
  {
   "cell_type": "code",
   "execution_count": 3,
   "id": "8508e13f",
   "metadata": {},
   "outputs": [],
   "source": [
    "# complete dataset\n",
    "loan_data = pd.read_csv('../datasets/credit/credit-g_csv.csv')\n",
    "\n",
    "# train_data \n",
    "X_train = pd.read_csv('../datasets/credit/encoded_credit_X_train.csv')\n",
    "y_train = pd.read_csv('../datasets/credit/credit_y_train.csv')\n",
    "\n",
    "# test data\n",
    "X_test = pd.read_csv('../datasets/credit/encoded_credit_X_test.csv')\n",
    "y_test = pd.read_csv('../datasets/credit/credit_y_test.csv')"
   ]
  },
  {
   "cell_type": "markdown",
   "id": "3fc77aee",
   "metadata": {},
   "source": [
    "---\n",
    "## 1. Preparation \n",
    "(5 points)\n",
    "\n",
    "**1.1** Inspect the data. Provide a description of the dataset, including some summary statistics. \n",
    "\n",
    "**1.2** Given this dataset, which performance metrics would you choose to evaluate model performance? "
   ]
  },
  {
   "cell_type": "markdown",
   "id": "80838ece",
   "metadata": {},
   "source": [
    "---\n",
    "## 2. Rule Generation (RUG) \n",
    "(15 points)\n",
    "\n",
    "**2.1** Do a 5-fold cross validation with grid search to tune the parameters `max_depth` and `max_RMP_calls`. Choose at least 3 values for each parameter to test during the cross validation. Then, fit the model with the best parameters on the entire training set. Make sure your results are reproducible.\n",
    "\n",
    "**2.2** Test the model on the test data and evaluate model performance based on the performance metrics you chose in Question 1.2.\n",
    "\n",
    "**2.3** Explain how a prediction for a single sample is made given a RUG model. Also show this on a specific sample from the test set and your final model. \n",
    "\n",
    "**2.4** Evaluate the global and local interpretability of your final model. "
   ]
  },
  {
   "cell_type": "markdown",
   "id": "6b2dbc1c",
   "metadata": {},
   "source": [
    "---\n",
    "## 3. Explainable Boosting Machine (EBM)\n",
    "\n",
    "(10 points)\n",
    "\n",
    "Fit an EBM to the training data and evalaute its performance on the test data. Follow the steps below, provide code where required and report your written answers in the same pdf file as those of part 1.\n",
    "\n",
    "**3.1** Fit an EBM model on the training data. Make sure it is reproducible. \n",
    "\n",
    "**3.2** Test the model on the test data and evaluate model performance based on the performance metrics you chose in Question 1.2.\n",
    "\n",
    "**3.3** Evaluate the global interpretability of the model. Include screenshots of the plots you refer to in the pdf file. \n",
    "\n",
    "**3.4** Select two samples from the test set and explain and interpret the local explanations for those. Include screenshots of the plots you refer to in the pdf file."
   ]
  },
  {
   "cell_type": "markdown",
   "id": "db4df196",
   "metadata": {},
   "source": [
    "---\n",
    "## 4. Discussion\n",
    "\n",
    "(5 points)\n",
    "\n",
    "**4.1** Discuss the pro's and con's of both methods, and discuss the key difference(s) between both methods.\n",
    "\n",
    "---"
   ]
  }
 ],
 "metadata": {
  "kernelspec": {
   "display_name": "part2_venv",
   "language": "python",
   "name": "part2_venv"
  },
  "language_info": {
   "codemirror_mode": {
    "name": "ipython",
    "version": 3
   },
   "file_extension": ".py",
   "mimetype": "text/x-python",
   "name": "python",
   "nbconvert_exporter": "python",
   "pygments_lexer": "ipython3",
   "version": "3.11.9"
  }
 },
 "nbformat": 4,
 "nbformat_minor": 5
}
