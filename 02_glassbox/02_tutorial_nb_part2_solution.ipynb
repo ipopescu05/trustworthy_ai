{
 "cells": [
  {
   "cell_type": "markdown",
   "id": "b749cc70",
   "metadata": {},
   "source": [
    "# Week 02 – Glassbox Models (part 2)\n",
    "\n",
    "In this notebook we'll be applying different glassbox models to the same dataset and compare their performance in terms of accuracy and f1-score and their interpretability.\n",
    "\n",
    "#### Step 1: Navigate to this week's directory \n",
    "```\n",
    "cd <path_to_week_2_material>\n",
    "```\n",
    "\n",
    "#### Step 2: Create and Activate a virtual environment (Python 3.9)\n",
    "**MacOS**\n",
    "```\n",
    "python3.11 -m venv part2_venv\n",
    "source part2_venv/bin/activate\n",
    "```\n",
    "\n",
    "**Windows (cmd)**\n",
    "```\n",
    "python3.11 -m venv part2_venv\n",
    "part2_venv\\Scripts\\activate\n",
    "```\n",
    "\n",
    "#### Step 3: Install required packages\n",
    "First, install `ipykernel` to integrate your virtual environment with Jupyter.\n",
    "```\n",
    "pip install ipykernel\n",
    "python -m ipykernel install --user --name=part2_venv\n",
    "```\n",
    "\n",
    "Next, install all necessary packages.\n",
    "```\n",
    "pip install ruleopt\n",
    "```\n",
    "\n",
    "**import packages**"
   ]
  },
  {
   "cell_type": "code",
   "execution_count": 1,
   "id": "3e4b241e",
   "metadata": {},
   "outputs": [],
   "source": [
    "import warnings\n",
    "warnings.filterwarnings(\"ignore\")\n",
    "import numpy as np\n",
    "import pandas as pd\n",
    "from sklearn.metrics import accuracy_score, f1_score, confusion_matrix, roc_auc_score\n",
    "import os\n",
    "import sys\n",
    "# import matplotlib.pyplot as plt"
   ]
  },
  {
   "cell_type": "markdown",
   "id": "dc0e93fa",
   "metadata": {},
   "source": [
    "# Load the dataset\n",
    "\n",
    "We are using the [Titanic dataset](https://www.kaggle.com/c/titanic/overview), which holds data about passangers of the Titanic and whether they survived or not. Passengers are described by 7 features. The response variable is binary (0 – died; 1 - survived).\n",
    "\n",
    "Make sure to save the dataset in the parent directory or adjust the file path below.\n",
    "\n",
    "We are directly loading the pre-processed data sets. For some algorithms, we require the data to be in binary form. Hence, we have two versions of X: `X_train` and `X_test`, with continous features and one-hot encoded categorical features, and `X_train_bin` and `X_test_bin`, where all features have been one-hot encoded. For this, continuous features were first transformed into categories. Check the code in `./01_intro/titanic_data_prep.ipynb` for more details on pre-processing."
   ]
  },
  {
   "cell_type": "code",
   "execution_count": 2,
   "id": "248acf65",
   "metadata": {},
   "outputs": [
    {
     "data": {
      "text/html": [
       "<div>\n",
       "<style scoped>\n",
       "    .dataframe tbody tr th:only-of-type {\n",
       "        vertical-align: middle;\n",
       "    }\n",
       "\n",
       "    .dataframe tbody tr th {\n",
       "        vertical-align: top;\n",
       "    }\n",
       "\n",
       "    .dataframe thead th {\n",
       "        text-align: right;\n",
       "    }\n",
       "</style>\n",
       "<table border=\"1\" class=\"dataframe\">\n",
       "  <thead>\n",
       "    <tr style=\"text-align: right;\">\n",
       "      <th></th>\n",
       "      <th>Age</th>\n",
       "      <th>SibSp</th>\n",
       "      <th>Parch</th>\n",
       "      <th>Fare</th>\n",
       "      <th>Sex_1</th>\n",
       "      <th>Embarked_1</th>\n",
       "      <th>Embarked_2</th>\n",
       "      <th>Pclass_1</th>\n",
       "      <th>Pclass_2</th>\n",
       "    </tr>\n",
       "  </thead>\n",
       "  <tbody>\n",
       "    <tr>\n",
       "      <th>0</th>\n",
       "      <td>29.699118</td>\n",
       "      <td>0</td>\n",
       "      <td>0</td>\n",
       "      <td>7.6292</td>\n",
       "      <td>0</td>\n",
       "      <td>1</td>\n",
       "      <td>0</td>\n",
       "      <td>0</td>\n",
       "      <td>1</td>\n",
       "    </tr>\n",
       "    <tr>\n",
       "      <th>1</th>\n",
       "      <td>29.699118</td>\n",
       "      <td>0</td>\n",
       "      <td>0</td>\n",
       "      <td>8.0500</td>\n",
       "      <td>1</td>\n",
       "      <td>0</td>\n",
       "      <td>1</td>\n",
       "      <td>0</td>\n",
       "      <td>1</td>\n",
       "    </tr>\n",
       "    <tr>\n",
       "      <th>2</th>\n",
       "      <td>29.699118</td>\n",
       "      <td>0</td>\n",
       "      <td>0</td>\n",
       "      <td>7.7500</td>\n",
       "      <td>0</td>\n",
       "      <td>1</td>\n",
       "      <td>0</td>\n",
       "      <td>0</td>\n",
       "      <td>1</td>\n",
       "    </tr>\n",
       "    <tr>\n",
       "      <th>3</th>\n",
       "      <td>51.000000</td>\n",
       "      <td>1</td>\n",
       "      <td>0</td>\n",
       "      <td>77.9583</td>\n",
       "      <td>0</td>\n",
       "      <td>0</td>\n",
       "      <td>1</td>\n",
       "      <td>0</td>\n",
       "      <td>0</td>\n",
       "    </tr>\n",
       "    <tr>\n",
       "      <th>4</th>\n",
       "      <td>21.000000</td>\n",
       "      <td>0</td>\n",
       "      <td>0</td>\n",
       "      <td>7.7333</td>\n",
       "      <td>1</td>\n",
       "      <td>1</td>\n",
       "      <td>0</td>\n",
       "      <td>0</td>\n",
       "      <td>1</td>\n",
       "    </tr>\n",
       "  </tbody>\n",
       "</table>\n",
       "</div>"
      ],
      "text/plain": [
       "         Age  SibSp  Parch     Fare  Sex_1  Embarked_1  Embarked_2  Pclass_1  \\\n",
       "0  29.699118      0      0   7.6292      0           1           0         0   \n",
       "1  29.699118      0      0   8.0500      1           0           1         0   \n",
       "2  29.699118      0      0   7.7500      0           1           0         0   \n",
       "3  51.000000      1      0  77.9583      0           0           1         0   \n",
       "4  21.000000      0      0   7.7333      1           1           0         0   \n",
       "\n",
       "   Pclass_2  \n",
       "0         1  \n",
       "1         1  \n",
       "2         1  \n",
       "3         0  \n",
       "4         1  "
      ]
     },
     "execution_count": 2,
     "metadata": {},
     "output_type": "execute_result"
    }
   ],
   "source": [
    "# X_train \n",
    "X_train = pd.read_csv('../datasets/titanic/encoded_titanic_X_train.csv')\n",
    "X_train_bin = pd.read_csv('../datasets/titanic/bin_titanic_X_train.csv')\n",
    "\n",
    "# X_test\n",
    "X_test = pd.read_csv('../datasets/titanic/encoded_titanic_X_test.csv')\n",
    "X_test_bin = pd.read_csv('../datasets/titanic/bin_titanic_X_test.csv')\n",
    "\n",
    "# y_train and y_test\n",
    "y_train = pd.read_csv('../datasets/titanic/titanic_y_train.csv')\n",
    "y_test = pd.read_csv('../datasets/titanic/titanic_y_test.csv')\n",
    "\n",
    "# take a look at the data\n",
    "X_train.head()"
   ]
  },
  {
   "cell_type": "markdown",
   "id": "50ad58d6",
   "metadata": {},
   "source": [
    "## About the dataset\n",
    "\n",
    "- `Age` – age of a person in years (int)\n",
    "- `SibSp` – the number of siblings or spouse of a person **onboard** (int)\n",
    "- `Parch` – the number of parents or children of a person **onbard** (int)\n",
    "- `Fare` – ticket price (float)\n",
    "- `Sex` – sex of a person (categorical/binary)\n",
    "- `Embarked` – location where the traveler mounted from. There are three possible values — Southampton, Cherbourg, and Queenstown (categorical)\n",
    "- `Pclass` – passenger division into class 1, 2, and 3 (categorical)\n",
    "- `Survived` – whether person survived the sinking of the ship (binary). Less than 40% survived. This is the **outcome** to predict. \n",
    "\n",
    "\n",
    "From the original dataset and from preprocessing the data, we know the following about the **categorical features**:\n",
    "\n",
    "- `Sex` has two values `['female','male']`, which were encoded `[0,1]`, respectively. Then, after applying one-hot encoding, we have `Sex_1` which indicates `male` if 1, `female` otherwise.\n",
    "- `Embarked` has three values `['C', 'Q', 'S']`, which were encoded `[0,1,2]`, respectively. Hence,\n",
    "    - `Embarked_1 = 1` indicates `Q` \n",
    "    - `Embarked_2 = 1` indicates `S`\n",
    "    - `Embarked_1 = 0` and `Embarked_2 = 0` indicated `C`\n",
    "- `Pclass` has three values `[1,2,3]`, which were encoded `[0,1,2]`, respectively. Hence, after encoding, we have:\n",
    "    - `Pclass_1 = 1` indicates `2`\n",
    "    - `Pclass_2 = 1` indicates `3`\n",
    "    - `Pclass_1 = 0` and `Pclass_2 = 0` indicates `1`"
   ]
  },
  {
   "cell_type": "code",
   "execution_count": 3,
   "id": "e798643b",
   "metadata": {},
   "outputs": [],
   "source": [
    "d = {\n",
    "    'target': 'Survived',\n",
    "    'numerical':['Age', 'SibSp', 'Parch', 'Fare'],\n",
    "    'categorical':['Sex', 'Embarked', 'Pclass']\n",
    "}\n",
    "\n",
    "# save feature names\n",
    "feature_names = X_train.columns\n",
    "target_names = list(y_train[d['target']].unique())\n",
    "\n",
    "# create a dataframe to save y values in \n",
    "y_results = pd.DataFrame()\n",
    "y_results['y_test'] = y_test"
   ]
  },
  {
   "cell_type": "markdown",
   "id": "b60564ca",
   "metadata": {},
   "source": [
    "---\n",
    "---"
   ]
  },
  {
   "cell_type": "markdown",
   "id": "303e73c0",
   "metadata": {},
   "source": [
    "# 5. Decision Rules\n",
    "\n",
    "## 5.2 Rule Generation (RUG)\n",
    "\n",
    "We propose this algorithm in our paper which you can access here: https://arxiv.org/abs/2104.10751 "
   ]
  },
  {
   "cell_type": "code",
   "execution_count": 4,
   "id": "d6c0d2e3",
   "metadata": {},
   "outputs": [],
   "source": [
    "# sys.path.insert(1, os.path.dirname(os.getcwd())+'/RuleDiscovery')\n",
    "from ruleopt import RUGClassifier\n",
    "from ruleopt.rule_cost import Length, Gini\n",
    "from ruleopt.explainer import Explainer\n",
    "# import ruxg"
   ]
  },
  {
   "cell_type": "code",
   "execution_count": 5,
   "id": "5163e861",
   "metadata": {},
   "outputs": [],
   "source": [
    "# solver = ORToolsSolver()\n",
    "rule_cost = Length()\n",
    "\n",
    "# Initialize the RUGClassifier with specific parameters\n",
    "rug = RUGClassifier(\n",
    "    random_state=100,\n",
    "    max_rmp_calls=8,\n",
    "    rule_cost=rule_cost,\n",
    "    max_depth=3,\n",
    "    threshold=0.05)"
   ]
  },
  {
   "cell_type": "code",
   "execution_count": 6,
   "id": "55529776",
   "metadata": {},
   "outputs": [],
   "source": [
    "# rug = RUGClassifier(max_depth=3, rule_length_cost=False,\n",
    "#                     solver='gurobi', random_state=0, max_RMP_calls = 8, threshold = 0.05)\n",
    "rug.fit(X_train, y_train[d['target']])\n",
    "y_results['rug_pred'] = rug.predict(np.array(X_test))"
   ]
  },
  {
   "cell_type": "markdown",
   "id": "965a01eb",
   "metadata": {},
   "source": [
    "## inspect performance"
   ]
  },
  {
   "cell_type": "code",
   "execution_count": 7,
   "id": "eb21093b",
   "metadata": {},
   "outputs": [
    {
     "name": "stdout",
     "output_type": "stream",
     "text": [
      "Confusion matrix : \n",
      " rug_pred    0   1\n",
      "y_test           \n",
      "0         100  10\n",
      "1          24  45\n",
      "\n",
      "Accuracy  = 0.8101\n",
      "F1 score  = 0.7258\n"
     ]
    }
   ],
   "source": [
    "# Confusion matrix\n",
    "cm = pd.crosstab(y_results['y_test'], y_results['rug_pred'])\n",
    "print (\"Confusion matrix : \\n\", cm)\n",
    "\n",
    "print('\\nAccuracy  = %.4f' % accuracy_score(y_results['y_test'], y_results['rug_pred']))\n",
    "print('F1 score  = %.4f' % f1_score(y_results['y_test'], y_results['rug_pred']))"
   ]
  },
  {
   "cell_type": "markdown",
   "id": "1c9272a0",
   "metadata": {},
   "source": [
    "### Questions\n",
    "\n",
    "**Q 5.2.1 – Evaluate the model performance.**\n",
    "\n",
    "The model performs quite good in terms of accuracy, with a score that's higher than that of logistic regression and the CART decision tree. The F1-score has a value of 72.58%, which is pretty good and exceeds those of the other models fitted so far.\n",
    "\n",
    "**Q 5.2.2 – Explain the meaning of `rule_cost = Length()`.**\n",
    "\n",
    "The objective function of RUG, which we want to minimize, includes cost coefficients for the rules. If `rule_cost = Length()`, then these coefficients will be equal to the length of each rule (i.e. the conditions in the rule). If we use the length of each rule as the cost, then shorter rules will be preferred over longer ones, so the average rule length is likely to decrease. However, we may end up with a bit more rules and/or less accuracy."
   ]
  },
  {
   "cell_type": "markdown",
   "id": "311dc60d",
   "metadata": {},
   "source": [
    "## model interpretation\n",
    "\n",
    "---\n",
    "### GLOBAL"
   ]
  },
  {
   "cell_type": "code",
   "execution_count": 8,
   "id": "dca05827",
   "metadata": {},
   "outputs": [
    {
     "name": "stdout",
     "output_type": "stream",
     "text": [
      "Total number of rules: 30\n",
      "Average rule length: 2.00\n"
     ]
    }
   ],
   "source": [
    "exp = Explainer(rug)\n",
    "summary = exp.summarize_rule_metrics()"
   ]
  },
  {
   "cell_type": "code",
   "execution_count": 9,
   "id": "1dae5efe",
   "metadata": {},
   "outputs": [
    {
     "name": "stdout",
     "output_type": "stream",
     "text": [
      "RULE 0:\n",
      "2.50      < Age       <= inf       or null\n",
      "-inf      < Pclass_2  <= 0.50      or null\n",
      "-inf      < Sex_1     <= 0.50      and not null\n",
      "Class: 1\n",
      "Scaled rule weight: 1.0000\n",
      "\n",
      "RULE 1:\n",
      "77.00     < Age       <= inf       and not null\n",
      "0.50      < Embarked_2 <= inf       or null\n",
      "Class: 1\n",
      "Scaled rule weight: 1.0000\n",
      "\n",
      "RULE 2:\n",
      "13.50     < Age       <= inf       or null\n",
      "-inf      < Fare      <= 26.14     or null\n",
      "0.50      < Sex_1     <= inf       or null\n",
      "Class: 0\n",
      "Scaled rule weight: 0.8333\n",
      "\n",
      "RULE 3:\n",
      "-inf      < Age       <= 11.50     and not null\n",
      "-inf      < Embarked_2 <= 0.50      and not null\n",
      "Class: 0\n",
      "Scaled rule weight: 0.8333\n",
      "\n",
      "RULE 4:\n",
      "-inf      < Age       <= 1.50      and not null\n",
      "Class: 1\n",
      "Scaled rule weight: 0.8333\n",
      "\n",
      "RULE 5:\n",
      "379.93    < Fare      <= inf       and not null\n",
      "-inf      < SibSp     <= 4.50      or null\n",
      "Class: 1\n",
      "Scaled rule weight: 0.8333\n",
      "\n",
      "RULE 6:\n",
      "0.96      < Age       <= 2.50      or null\n",
      "-inf      < Pclass_1  <= 0.50      or null\n",
      "Class: 0\n",
      "Scaled rule weight: 0.8333\n",
      "\n",
      "RULE 7:\n",
      "-inf      < Age       <= 7.00      and not null\n",
      "-inf      < SibSp     <= 2.50      or null\n",
      "Class: 1\n",
      "Scaled rule weight: 0.8333\n",
      "\n",
      "RULE 8:\n",
      "-inf      < Sex_1     <= 0.50      and not null\n",
      "8.04      < Fare      <= 14.85     and not null\n",
      "Class: 0\n",
      "Scaled rule weight: 0.8333\n",
      "\n",
      "RULE 9:\n",
      "-inf      < Parch     <= 1.50      or null\n",
      "2.50      < SibSp     <= inf       and not null\n",
      "Class: 0\n",
      "Scaled rule weight: 0.6667\n",
      "\n",
      "RULE 10:\n",
      "-inf      < Age       <= 12.00     and not null\n",
      "0.50      < Pclass_1  <= inf       and not null\n",
      "Class: 1\n",
      "Scaled rule weight: 0.6667\n",
      "\n",
      "RULE 11:\n",
      "-inf      < Age       <= 22.00     and not null\n",
      "52.28     < Fare      <= 59.19     and not null\n",
      "Class: 0\n",
      "Scaled rule weight: 0.4167\n",
      "\n",
      "RULE 12:\n",
      "22.00     < Age       <= inf       or null\n",
      "52.28     < Fare      <= 59.19     and not null\n",
      "Class: 1\n",
      "Scaled rule weight: 0.4167\n",
      "\n",
      "RULE 13:\n",
      "-inf      < Age       <= 47.50     or null\n",
      "37.62     < Fare      <= 52.28     and not null\n",
      "Class: 0\n",
      "Scaled rule weight: 0.4167\n",
      "\n",
      "RULE 14:\n",
      "-inf      < Fare      <= 27.14     or null\n",
      "Class: 1\n",
      "Scaled rule weight: 0.4167\n",
      "\n",
      "RULE 15:\n",
      "4.50      < SibSp     <= inf       and not null\n",
      "Class: 0\n",
      "Scaled rule weight: 0.3333\n",
      "\n",
      "RULE 16:\n",
      "77.01     < Fare      <= inf       and not null\n",
      "Class: 0\n",
      "Scaled rule weight: 0.3333\n",
      "\n",
      "RULE 17:\n",
      "54.50     < Age       <= inf       and not null\n",
      "14.85     < Fare      <= inf       or null\n",
      "Class: 0\n",
      "Scaled rule weight: 0.3333\n",
      "\n",
      "RULE 18:\n",
      "51.50     < Age       <= 77.00     or null\n",
      "0.50      < Embarked_2 <= inf       or null\n",
      "Class: 0\n",
      "Scaled rule weight: 0.3333\n",
      "\n",
      "RULE 19:\n",
      "17.43     < Fare      <= inf       and not null\n",
      "12.00     < Age       <= inf       or null\n",
      "0.50      < Pclass_1  <= inf       and not null\n",
      "Class: 0\n",
      "Scaled rule weight: 0.3333\n",
      "\n",
      "RULE 20:\n",
      "27.14     < Fare      <= 37.62     and not null\n",
      "Class: 0\n",
      "Scaled rule weight: 0.2500\n",
      "\n",
      "RULE 21:\n",
      "149.04    < Fare      <= 379.93    and not null\n",
      "-inf      < SibSp     <= 4.50      or null\n",
      "Class: 0\n",
      "Scaled rule weight: 0.1667\n",
      "\n",
      "RULE 22:\n",
      "24.81     < Fare      <= inf       and not null\n",
      "0.50      < Pclass_2  <= inf       and not null\n",
      "-inf      < Sex_1     <= 0.50      and not null\n",
      "Class: 0\n",
      "Scaled rule weight: 0.1667\n",
      "\n",
      "RULE 23:\n",
      "7.91      < Fare      <= 8.04      and not null\n",
      "27.50     < Age       <= inf       or null\n",
      "Class: 1\n",
      "Scaled rule weight: 0.1667\n",
      "\n",
      "RULE 24:\n",
      "35.50     < Age       <= 72.50     or null\n",
      "-inf      < Fare      <= 46.06     or null\n",
      "Class: 0\n",
      "Scaled rule weight: 0.1667\n",
      "\n",
      "RULE 25:\n",
      "2.50      < SibSp     <= inf       and not null\n",
      "26.14     < Fare      <= inf       and not null\n",
      "0.50      < Sex_1     <= inf       or null\n",
      "Class: 0\n",
      "Scaled rule weight: 0.1667\n",
      "\n",
      "RULE 26:\n",
      "47.50     < Age       <= 51.50     and not null\n",
      "0.50      < Embarked_2 <= inf       or null\n",
      "Class: 1\n",
      "Scaled rule weight: 0.1667\n",
      "\n",
      "RULE 27:\n",
      "-inf      < Sex_1     <= 0.50      and not null\n",
      "59.19     < Fare      <= inf       or null\n",
      "Class: 1\n",
      "Scaled rule weight: 0.0833\n",
      "\n",
      "RULE 28:\n",
      "47.50     < Age       <= inf       and not null\n",
      "37.62     < Fare      <= 52.28     and not null\n",
      "Class: 0\n",
      "Scaled rule weight: 0.0833\n",
      "\n",
      "RULE 29:\n",
      "0.50      < Sex_1     <= inf       or null\n",
      "59.19     < Fare      <= inf       or null\n",
      "Class: 0\n",
      "Scaled rule weight: 0.0833\n",
      "\n"
     ]
    }
   ],
   "source": [
    "rules = exp.retrieve_rule_details(list(feature_names))"
   ]
  },
  {
   "cell_type": "markdown",
   "id": "7b956c08",
   "metadata": {},
   "source": [
    "### Questions\n",
    "\n",
    "**Q 5.2.2 – Evaluate the global interpretability of the model.**\n",
    "\n",
    "The model generated 30 rules, which have an average rule length of 2.0. The rules come with weights that range from 1.00 to 0.08. With 30 rules, this model is less straightforward to grasp than the decision trees from earlier, however we gain a bit in classification performance."
   ]
  },
  {
   "cell_type": "markdown",
   "id": "fb575946",
   "metadata": {},
   "source": [
    "---\n",
    "### LOCAL"
   ]
  },
  {
   "cell_type": "code",
   "execution_count": 10,
   "id": "7ad67f99",
   "metadata": {},
   "outputs": [
    {
     "name": "stdout",
     "output_type": "stream",
     "text": [
      "Number of instances not covered by any rule: 0\n",
      "Average number of rules per sample: 2.40\n",
      "Average length of rules per sample: 1.88\n"
     ]
    }
   ],
   "source": [
    "rule_coverage_metrics = exp.evaluate_rule_coverage_metrics(X_test, info=True)"
   ]
  },
  {
   "cell_type": "code",
   "execution_count": 11,
   "id": "ad6324ce",
   "metadata": {},
   "outputs": [
    {
     "name": "stdout",
     "output_type": "stream",
     "text": [
      "True and predicted values for sample at index 9:\n",
      "y_test      1\n",
      "rug_pred    0\n",
      "Name: 9, dtype: int64 \n",
      "\n",
      "Sample 9 features:\n"
     ]
    },
    {
     "data": {
      "text/html": [
       "<div>\n",
       "<style scoped>\n",
       "    .dataframe tbody tr th:only-of-type {\n",
       "        vertical-align: middle;\n",
       "    }\n",
       "\n",
       "    .dataframe tbody tr th {\n",
       "        vertical-align: top;\n",
       "    }\n",
       "\n",
       "    .dataframe thead th {\n",
       "        text-align: right;\n",
       "    }\n",
       "</style>\n",
       "<table border=\"1\" class=\"dataframe\">\n",
       "  <thead>\n",
       "    <tr style=\"text-align: right;\">\n",
       "      <th></th>\n",
       "      <th>Age</th>\n",
       "      <th>SibSp</th>\n",
       "      <th>Parch</th>\n",
       "      <th>Fare</th>\n",
       "      <th>Sex_1</th>\n",
       "      <th>Embarked_1</th>\n",
       "      <th>Embarked_2</th>\n",
       "      <th>Pclass_1</th>\n",
       "      <th>Pclass_2</th>\n",
       "    </tr>\n",
       "  </thead>\n",
       "  <tbody>\n",
       "    <tr>\n",
       "      <th>9</th>\n",
       "      <td>19.0</td>\n",
       "      <td>0</td>\n",
       "      <td>0</td>\n",
       "      <td>8.05</td>\n",
       "      <td>1</td>\n",
       "      <td>0</td>\n",
       "      <td>1</td>\n",
       "      <td>0</td>\n",
       "      <td>1</td>\n",
       "    </tr>\n",
       "  </tbody>\n",
       "</table>\n",
       "</div>"
      ],
      "text/plain": [
       "    Age  SibSp  Parch  Fare  Sex_1  Embarked_1  Embarked_2  Pclass_1  Pclass_2\n",
       "9  19.0      0      0  8.05      1           0           1         0         1"
      ]
     },
     "execution_count": 11,
     "metadata": {},
     "output_type": "execute_result"
    }
   ],
   "source": [
    "i = 9\n",
    "print(f'True and predicted values for sample at index {i}:')\n",
    "print(y_results.loc[i,:], '\\n')\n",
    "print(f'Sample {i} features:')\n",
    "X_test.loc[[i]]"
   ]
  },
  {
   "cell_type": "code",
   "execution_count": 12,
   "id": "a2974ab0",
   "metadata": {},
   "outputs": [
    {
     "name": "stdout",
     "output_type": "stream",
     "text": [
      "Rules for instance 0\n",
      "RULE 2:\n",
      "13.50     < Age       <= inf       or null\n",
      "-inf      < Fare      <= 26.14     or null\n",
      "0.50      < Sex_1     <= inf       or null\n",
      "Class: 0\n",
      "Scaled rule weight: 0.8333\n",
      "\n",
      "RULE 14:\n",
      "-inf      < Fare      <= 27.14     or null\n",
      "Class: 1\n",
      "Scaled rule weight: 0.4167\n",
      "\n"
     ]
    },
    {
     "data": {
      "text/plain": [
       "[[2, 14]]"
      ]
     },
     "execution_count": 12,
     "metadata": {},
     "output_type": "execute_result"
    }
   ],
   "source": [
    "exp.find_applicable_rules_for_samples(X_test.iloc[[i]], feature_names=list(feature_names), info=True)"
   ]
  },
  {
   "cell_type": "markdown",
   "id": "d8e761d1",
   "metadata": {},
   "source": [
    "### Questions\n",
    "\n",
    "**Q 5.2.3 – Take a look at the local explanation for the sample with index 9 of the test set. Explain how the prediction is made.**\n",
    "\n",
    "Each of the rules assigns the sample to either class 0 or 1, and we use weighted majority voting among rules to make the prediction. In other words, we sum the weights of the rules for each class and the prediction is equal to the class with the higher weight. Here, Rule 2 assigns the sample to class 0, with a weight of $0.83$. The other rule (Rule 14) assigns the sample to class 1, with a weight of 0.42. As the weight for class 0 is higher than the weight of class 1, the prediction for the sample is class 1.\n",
    "\n",
    "**Q 5.2.4 – Explain the main difference between RUG and the algorithm here that produces a decision list.**\n",
    "\n",
    "RUG returns a decision set, and for prediction we use all of the rules that apply to the sample. The individual predictions are weighted using the rule weights, and the class with the higher summed weight will be assigned to the sample. \n",
    "\n",
    "In a decsision list like here, a sample is classified with only one rule, namely the first in the list where the sample satisfies the conditions."
   ]
  }
 ],
 "metadata": {
  "kernelspec": {
   "display_name": "part2_venv",
   "language": "python",
   "name": "part2_venv"
  },
  "language_info": {
   "codemirror_mode": {
    "name": "ipython",
    "version": 3
   },
   "file_extension": ".py",
   "mimetype": "text/x-python",
   "name": "python",
   "nbconvert_exporter": "python",
   "pygments_lexer": "ipython3",
   "version": "3.11.9"
  }
 },
 "nbformat": 4,
 "nbformat_minor": 5
}
